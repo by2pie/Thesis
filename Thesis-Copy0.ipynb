{
 "metadata": {
  "name": "",
  "signature": "sha256:514228b932219b7571b8168a1f7ffbf255e0efdd10f8c38334ae1de7d1c7bccb"
 },
 "nbformat": 3,
 "nbformat_minor": 0,
 "worksheets": [
  {
   "cells": [
    {
     "cell_type": "code",
     "collapsed": false,
     "input": [
      "from IPython.display import display, Image\n",
      "from IPython.display import display_pretty, display_html, display_jpeg, display_png, display_json, display_latex, display_svg\n",
      "from IPython.display import Latex\n",
      "from sympy import *\n",
      "import numpy as np\n",
      "from itertools import *\n",
      "import qutip as q\n",
      "init_printing() \n",
      "__author__      = \"Jan Krzywda\""
     ],
     "language": "python",
     "metadata": {},
     "outputs": [],
     "prompt_number": 3
    },
    {
     "cell_type": "code",
     "collapsed": false,
     "input": [],
     "language": "python",
     "metadata": {},
     "outputs": [],
     "prompt_number": 4
    },
    {
     "cell_type": "markdown",
     "metadata": {},
     "source": [
      "$$\n",
      "\\newcommand{\\bra}[1]{\\left\\langle #1 \\right\\vert }\n",
      "\\newcommand{\\ket}[1]{\\left\\vert #1 \\right\\rangle }\n",
      "\\newcommand{\\ketbra}[2]{\\left\\vert #1 \\right\\rangle \\left\\langle #2 \\right\\vert }\n",
      "$$"
     ]
    },
    {
     "cell_type": "heading",
     "level": 1,
     "metadata": {},
     "source": [
      "Diploma thesis"
     ]
    },
    {
     "cell_type": "markdown",
     "metadata": {},
     "source": [
      "Title: ?"
     ]
    },
    {
     "cell_type": "markdown",
     "metadata": {},
     "source": [
      "Defininition of constants in order: $\\epsilon , f_k^{(i)}, \\omega_k, \\Delta \\epsilon$ (TO DO):"
     ]
    },
    {
     "cell_type": "code",
     "collapsed": false,
     "input": [
      "i = Idx('i',4)\n",
      "j = Idx('j',4)\n",
      "Re = Symbol('Re')\n",
      "b_p = IndexedBase('b^+')\n",
      "b = IndexedBase('b')\n",
      "eps = IndexedBase('epsilon')\n",
      "f = IndexedBase('f')\n",
      "g = IndexedBase('g')\n",
      "omega = IndexedBase('omega')   #phonon modes\n",
      "d_eps = IndexedBase('\\Delta \\epsilon')"
     ],
     "language": "python",
     "metadata": {},
     "outputs": [],
     "prompt_number": 4
    },
    {
     "cell_type": "markdown",
     "metadata": {},
     "source": [
      "Shorthand definitions:"
     ]
    },
    {
     "cell_type": "code",
     "collapsed": false,
     "input": [
      "N = 4   #number of quanutm dots\n",
      "phonons_num = 1 #number of phonon modes\n",
      "base={0:q.fock_dm(2,0), 1:q.fock_dm(2,1), I:q.qeye(2)} #dictionary 0-> |0><0| 1-> |1><1| I-> I\n",
      "\n",
      "def q_state(qubits, n=4, phonons=True):\n",
      "\n",
      "#Returns tensor product of subsystems given in a form [state1, state2, state3...]\n",
      "#    Param:\n",
      "#    qubits - system state ex [0,0Idx('b'),0,1] means |0001>\n",
      "#    n - number of qubits\n",
      "#    phonons - returning with or without tensor product with reservoir\n",
      "\n",
      "    to_tensor = []\n",
      "    for qubit in qubits:\n",
      "        to_tensor.append(base[qubit])\n",
      "    if phonons:\n",
      "        return q.tensor(to_tensor + [q.qeye(phonons_num)])\n",
      "    else:\n",
      "        return q.tensor(to_tensor)\n",
      "    \n",
      "def pair(i,j):\n",
      "\n",
      "#    Returns state of subsystems in pair exited state given in a form [state1, state2, state3...]\n",
      "#    Param:\n",
      "#    i - first exited subsystem\n",
      "#    j - second exited subsystem\n",
      "\n",
      "    states = [I,I,I,I]\n",
      "    states[j] = 1\n",
      "    states[i] = 1\n",
      "    return states\n",
      "\n",
      "def one(i):\n",
      "#    Returns state of subsystems in single exited state given in a form [state1, state2, state3...]\n",
      "#    Param:\n",
      "#    i - exited subsystem\n",
      " \n",
      "    states = [I,I,I,I]\n",
      "    states[i] = 1\n",
      "    return states"
     ],
     "language": "python",
     "metadata": {},
     "outputs": [],
     "prompt_number": 5
    },
    {
     "cell_type": "heading",
     "level": 2,
     "metadata": {},
     "source": [
      "1. Hamiltonian for pair of quantum dots:"
     ]
    },
    {
     "cell_type": "markdown",
     "metadata": {},
     "source": [
      "I would like to analyse hamiltonian of a system for set of two quantum dots and <diagonalizowac> it:"
     ]
    },
    {
     "cell_type": "markdown",
     "metadata": {},
     "source": [
      "\\begin{equation*}\n",
      "H_{ij} = \\epsilon_i (\\ketbra{1}{1}_i \\otimes I_j) + \\epsilon_j (I_i\\otimes\\ketbra{1}{1}_j) + \\Delta \\epsilon_{ij}(|\\ketbra{1}{1}_i \\otimes \\ketbra{1}{1}_j) + (\\ketbra{1}{1}_i \\otimes I_j)\\sum_k f_k^{(1)}(b_k^+ + b_{-k})+( I_i \\otimes \\ketbra{1}{1}_j)\\sum_k f_k^{(2)}(b_k^+ + b_{-k}) + \\sum_k \\omega_k b_k^+ b_k\n",
      "\\end{equation*}"
     ]
    },
    {
     "cell_type": "markdown",
     "metadata": {},
     "source": [
      "Using Weil transformation:"
     ]
    },
    {
     "cell_type": "markdown",
     "metadata": {},
     "source": [
      "\\begin{equation*}\n",
      "\\mathbb{W} = \\sum_{i=1}^3 \\ket{i}\\bra{i} \\, exp[\\sum_k g_k^{(i)*} - H.c.]\n",
      "\\end{equation*}\n",
      "\n",
      "Where: $$g_k^{(i)} = \\frac{f_k^{(i)}} {\\omega_k}$$ "
     ]
    },
    {
     "cell_type": "markdown",
     "metadata": {},
     "source": [
      "We should obtain:"
     ]
    },
    {
     "cell_type": "markdown",
     "metadata": {},
     "source": [
      "\\begin{equation*}\n",
      "\\tilde{H} = \\mathbb{W}H\\mathbb{W}^+ = \\tilde{H}_L + \\tilde{H}_I + \\tilde{H}_{res}\n",
      "\\end{equation*}"
     ]
    },
    {
     "cell_type": "markdown",
     "metadata": {},
     "source": [
      "Expanding RHS tems:"
     ]
    },
    {
     "cell_type": "markdown",
     "metadata": {},
     "source": [
      "Local evolution of subsystems:\n",
      "\n",
      "\\begin{equation*}\n",
      "\\tilde{H}_L = E_{i}(\\ket{1} \\bra{1} \\otimes I) + E_{j}(I \\otimes \\ket{1} \\bra{1})\n",
      "\\end{equation*}\n",
      "\n",
      "Where: $E_i = \\epsilon_i - \\sum_k \\omega_k |g_k^{(i)}|^2$\n",
      "\n"
     ]
    },
    {
     "cell_type": "markdown",
     "metadata": {},
     "source": [
      "Their interaction:\n",
      "\n",
      "\\begin{equation*}\n",
      "\\tilde{H}_I = \\Delta E_{ij} (\\ket{1} \\bra{1} \\otimes \\ket{1} \\bra{1})\n",
      "\\end{equation*}\n",
      "\n",
      "Where: $\\Delta E_{ij} = \\Delta \\epsilon_{ij} - 2Re \\sum_k \\omega_k g_k^{(1)} g_k^{(2)*}$\n",
      "\n"
     ]
    },
    {
     "cell_type": "markdown",
     "metadata": {},
     "source": [
      "Reservoir:\n",
      "\n",
      "\\begin{equation*}\n",
      "\\tilde{H}_{res} = \\sum_k \\omega_k b_k^+ b_k\n",
      "\\end{equation*}"
     ]
    },
    {
     "cell_type": "markdown",
     "metadata": {},
     "source": [
      "I would like to store those energy corrections in usfull format of python list:"
     ]
    },
    {
     "cell_type": "code",
     "collapsed": false,
     "input": [
      "from sympy.abc import k,l\n",
      "E = []\n",
      "d_E = []\n",
      "pairs = list(combinations([0,1,2,3],2))\n",
      "for i in range(4):\n",
      "    E.append(eps[i] - Sum(omega[k]*abs(g[k,i])**2,(k,0,oo)))\n",
      "    d_E.append([0,0,0,0])\n",
      "for i,j in pairs:\n",
      "    d_E[i][j] = d_eps[i,j] - 2*re(Sum(omega[k]*g[k,i]*(g[k,j]).conjugate(),(l,0,oo)))\n",
      "pairs\n"
     ],
     "language": "python",
     "metadata": {},
     "outputs": [
      {
       "latex": [
        "$$\\left [ \\left ( 0, \\quad 1\\right ), \\quad \\left ( 0, \\quad 2\\right ), \\quad \\left ( 0, \\quad 3\\right ), \\quad \\left ( 1, \\quad 2\\right ), \\quad \\left ( 1, \\quad 3\\right ), \\quad \\left ( 2, \\quad 3\\right )\\right ]$$"
       ],
       "metadata": {},
       "output_type": "pyout",
       "png": "[encoded data removed]",
       "prompt_number": 15,
       "text": [
        "[(0, 1), (0, 2), (0, 3), (1, 2), (1, 3), (2, 3)]"
       ]
      }
     ],
     "prompt_number": 15
    },
    {
     "cell_type": "heading",
     "level": 2,
     "metadata": {},
     "source": [
      "2. System of four quantum dots:"
     ]
    },
    {
     "cell_type": "markdown",
     "metadata": {},
     "source": [
      "Now we have to generealize previous approach to 4 qubits. It can be done after realisation we should sum all $\\tilde{H}_L$ like hamiltonian for each qubit, $\\tilde{H}_I $ for each pair and $\\tilde{H}_{res}$:"
     ]
    },
    {
     "cell_type": "markdown",
     "metadata": {},
     "source": [
      "\\begin{equation*}\n",
      "\\tilde{H} = \\sum_{\\ket{1III},\\ket{I1II} ...}\\tilde{H}_L + \\sum_{All\\, pairs}\\tilde{H}_I + \\tilde{H}_{res}\n",
      "\\end{equation*}"
     ]
    },
    {
     "cell_type": "code",
     "collapsed": false,
     "input": [
      "from sympy.abc import k\n",
      "\n",
      "H_l = zeros(N**2,N**2)\n",
      "H_I = zeros(N**2,N**2)\n",
      "for i in range(4):\n",
      "   H_l += Matrix(q_state(one(i)).data.real.toarray()*E[i])\n",
      "pairs = list(permutations([0,1,2,3],2))\n",
      "for i,j in pairs:\n",
      "    H_I += Matrix(q_state(pair(i,j)).data.real.toarray()*d_E[i][j])\n",
      "H_ph = Sum(omega[k]*b_p[k]*b[k],(k,0,oo))\n",
      " # H += q_state(pair(ij)) * (d_eps[i,j]) \n",
      "#print(H.data)\n",
      "H = H_l + H_I + eye(16)*H_ph\n",
      "H = SparseMatrix(H)\n",
      "def print_sparse(M):\n",
      "    print(\"Non-zero matrix elements:\")\n",
      "    for i in range(N**2):\n",
      "        for j in range(N**2):\n",
      "            if M[i,j] ==0:\n",
      "                continue\n",
      "            else:\n",
      "                print(\"(\"+str(i)+\"   \"+str(j)+\")\", end=\"\")\n",
      "                display(M[i,j])\n",
      "        \n",
      "print_sparse(H)\n"
     ],
     "language": "python",
     "metadata": {},
     "outputs": [
      {
       "output_type": "stream",
       "stream": "stdout",
       "text": [
        "Non-zero matrix elements:\n",
        "(0   0)"
       ]
      },
      {
       "latex": [
        "$$\\sum_{k=0}^{\\infty} b_{k} b^{+}_{k} \\omega_{k}$$"
       ],
       "metadata": {},
       "output_type": "display_data",
       "png": "[encoded data removed]",
       "text": [
        "  \u221e                       \n",
        " ___                      \n",
        " \u2572                        \n",
        "  \u2572   b[k]\u22c5b^+[k]\u22c5omega[k]\n",
        "  \u2571                       \n",
        " \u2571                        \n",
        " \u203e\u203e\u203e                      \n",
        "k = 0                     "
       ]
      },
      {
       "output_type": "stream",
       "stream": "stdout",
       "text": [
        "(1   1)"
       ]
      },
      {
       "latex": [
        "$$1.0 \\epsilon_{3} - 1.0 \\sum_{k=0}^{\\infty} \\left\\lvert{g_{k,3}}\\right\\rvert^{2} \\omega_{k} + \\sum_{k=0}^{\\infty} b_{k} b^{+}_{k} \\omega_{k}$$"
       ],
       "metadata": {},
       "output_type": "display_data",
       "png": "[encoded data removed]",
       "text": [
        "                          \u221e                           \u221e                       \n",
        "                         ___                         ___                      \n",
        "                         \u2572                           \u2572                        \n",
        "                          \u2572            2              \u2572   b[k]\u22c5b^+[k]\u22c5omega[k]\n",
        "1.0\u22c5epsilon[3] - - -1.0\u22c5  \u2571   \u2502g[k, 3]\u2502 \u22c5omega[k] +   \u2571                       \n",
        "                         \u2571                           \u2571                        \n",
        "                         \u203e\u203e\u203e                         \u203e\u203e\u203e                      \n",
        "                        k = 0                       k = 0                     "
       ]
      },
      {
       "output_type": "stream",
       "stream": "stdout",
       "text": [
        "(2   2)"
       ]
      },
      {
       "latex": [
        "$$1.0 \\epsilon_{2} - 1.0 \\sum_{k=0}^{\\infty} \\left\\lvert{g_{k,2}}\\right\\rvert^{2} \\omega_{k} + \\sum_{k=0}^{\\infty} b_{k} b^{+}_{k} \\omega_{k}$$"
       ],
       "metadata": {},
       "output_type": "display_data",
       "png": "[encoded data removed]",
       "text": [
        "                          \u221e                           \u221e                       \n",
        "                         ___                         ___                      \n",
        "                         \u2572                           \u2572                        \n",
        "                          \u2572            2              \u2572   b[k]\u22c5b^+[k]\u22c5omega[k]\n",
        "1.0\u22c5epsilon[2] - - -1.0\u22c5  \u2571   \u2502g[k, 2]\u2502 \u22c5omega[k] +   \u2571                       \n",
        "                         \u2571                           \u2571                        \n",
        "                         \u203e\u203e\u203e                         \u203e\u203e\u203e                      \n",
        "                        k = 0                       k = 0                     "
       ]
      },
      {
       "output_type": "stream",
       "stream": "stdout",
       "text": [
        "(3   3)"
       ]
      },
      {
       "latex": [
        "$$- 2.0 \\Re {\\left (\\sum_{l=0}^{\\infty} \\overline{g_{k,3}} \\omega_{k} g_{k,2} \\right )} + 1.0 \\epsilon_{2} + 1.0 \\epsilon_{3} + 1.0 \\Delta \\epsilon_{2,3} - 1.0 \\sum_{k=0}^{\\infty} \\left\\lvert{g_{k,2}}\\right\\rvert^{2} \\omega_{k} - 1.0 \\sum_{k=0}^{\\infty} \\left\\lvert{g_{k,3}}\\right\\rvert^{2} \\omega_{k} + \\sum_{k=0}^{\\infty} b_{k} b^{+}_{k} \\omega_{k}$$"
       ],
       "metadata": {},
       "output_type": "display_data",
       "png": "[encoded data removed]",
       "text": [
        "              \u239b  \u221e                           \u239e                                \n",
        "              \u239c ___                          \u239f                                \n",
        "              \u239c \u2572                            \u239f                                \n",
        "              \u239c  \u2572   _______                 \u239f                                \n",
        "- -2.0\u22c5(-1)\u22c5  \u239c  \u2571   g[k, 3]\u22c5omega[k]\u22c5g[k, 2]\u239f + 1.0\u22c5epsilon[2] + 1.0\u22c5epsilon[\n",
        "              \u239c \u2571                            \u239f                                \n",
        "              \u239c \u203e\u203e\u203e                          \u239f                                \n",
        "            re\u239dl = 0                         \u23a0                                \n",
        "\n",
        "                                          \u221e                                  \u221e\n",
        "                                         ___                                __\n",
        "                                         \u2572                                  \u2572 \n",
        "                                          \u2572            2                     \u2572\n",
        "3] + 1.0\u22c5\\Delta \\epsilon[2, 3] - - -1.0\u22c5  \u2571   \u2502g[k, 2]\u2502 \u22c5omega[k] - - -1.0\u22c5  \u2571\n",
        "                                         \u2571                                  \u2571 \n",
        "                                         \u203e\u203e\u203e                                \u203e\u203e\n",
        "                                        k = 0                              k =\n",
        "\n",
        "                           \u221e                       \n",
        "_                         ___                      \n",
        "                          \u2572                        \n",
        "            2              \u2572   b[k]\u22c5b^+[k]\u22c5omega[k]\n",
        "   \u2502g[k, 3]\u2502 \u22c5omega[k] +   \u2571                       \n",
        "                          \u2571                        \n",
        "\u203e                         \u203e\u203e\u203e                      \n",
        " 0                       k = 0                     "
       ]
      },
      {
       "output_type": "stream",
       "stream": "stdout",
       "text": [
        "(4   4)"
       ]
      },
      {
       "latex": [
        "$$1.0 \\epsilon_{1} - 1.0 \\sum_{k=0}^{\\infty} \\left\\lvert{g_{k,1}}\\right\\rvert^{2} \\omega_{k} + \\sum_{k=0}^{\\infty} b_{k} b^{+}_{k} \\omega_{k}$$"
       ],
       "metadata": {},
       "output_type": "display_data",
       "png": "[encoded data removed]",
       "text": [
        "                          \u221e                           \u221e                       \n",
        "                         ___                         ___                      \n",
        "                         \u2572                           \u2572                        \n",
        "                          \u2572            2              \u2572   b[k]\u22c5b^+[k]\u22c5omega[k]\n",
        "1.0\u22c5epsilon[1] - - -1.0\u22c5  \u2571   \u2502g[k, 1]\u2502 \u22c5omega[k] +   \u2571                       \n",
        "                         \u2571                           \u2571                        \n",
        "                         \u203e\u203e\u203e                         \u203e\u203e\u203e                      \n",
        "                        k = 0                       k = 0                     "
       ]
      },
      {
       "output_type": "stream",
       "stream": "stdout",
       "text": [
        "(5   5)"
       ]
      },
      {
       "latex": [
        "$$- 2.0 \\Re {\\left (\\sum_{l=0}^{\\infty} \\overline{g_{k,3}} \\omega_{k} g_{k,1} \\right )} + 1.0 \\epsilon_{1} + 1.0 \\epsilon_{3} + 1.0 \\Delta \\epsilon_{1,3} - 1.0 \\sum_{k=0}^{\\infty} \\left\\lvert{g_{k,1}}\\right\\rvert^{2} \\omega_{k} - 1.0 \\sum_{k=0}^{\\infty} \\left\\lvert{g_{k,3}}\\right\\rvert^{2} \\omega_{k} + \\sum_{k=0}^{\\infty} b_{k} b^{+}_{k} \\omega_{k}$$"
       ],
       "metadata": {},
       "output_type": "display_data",
       "png": "[encoded data removed]",
       "text": [
        "              \u239b  \u221e                           \u239e                                \n",
        "              \u239c ___                          \u239f                                \n",
        "              \u239c \u2572                            \u239f                                \n",
        "              \u239c  \u2572   _______                 \u239f                                \n",
        "- -2.0\u22c5(-1)\u22c5  \u239c  \u2571   g[k, 3]\u22c5omega[k]\u22c5g[k, 1]\u239f + 1.0\u22c5epsilon[1] + 1.0\u22c5epsilon[\n",
        "              \u239c \u2571                            \u239f                                \n",
        "              \u239c \u203e\u203e\u203e                          \u239f                                \n",
        "            re\u239dl = 0                         \u23a0                                \n",
        "\n",
        "                                          \u221e                                  \u221e\n",
        "                                         ___                                __\n",
        "                                         \u2572                                  \u2572 \n",
        "                                          \u2572            2                     \u2572\n",
        "3] + 1.0\u22c5\\Delta \\epsilon[1, 3] - - -1.0\u22c5  \u2571   \u2502g[k, 1]\u2502 \u22c5omega[k] - - -1.0\u22c5  \u2571\n",
        "                                         \u2571                                  \u2571 \n",
        "                                         \u203e\u203e\u203e                                \u203e\u203e\n",
        "                                        k = 0                              k =\n",
        "\n",
        "                           \u221e                       \n",
        "_                         ___                      \n",
        "                          \u2572                        \n",
        "            2              \u2572   b[k]\u22c5b^+[k]\u22c5omega[k]\n",
        "   \u2502g[k, 3]\u2502 \u22c5omega[k] +   \u2571                       \n",
        "                          \u2571                        \n",
        "\u203e                         \u203e\u203e\u203e                      \n",
        " 0                       k = 0                     "
       ]
      },
      {
       "output_type": "stream",
       "stream": "stdout",
       "text": [
        "(6   6)"
       ]
      },
      {
       "latex": [
        "$$- 2.0 \\Re {\\left (\\sum_{l=0}^{\\infty} \\overline{g_{k,2}} \\omega_{k} g_{k,1} \\right )} + 1.0 \\epsilon_{1} + 1.0 \\epsilon_{2} + 1.0 \\Delta \\epsilon_{1,2} - 1.0 \\sum_{k=0}^{\\infty} \\left\\lvert{g_{k,1}}\\right\\rvert^{2} \\omega_{k} - 1.0 \\sum_{k=0}^{\\infty} \\left\\lvert{g_{k,2}}\\right\\rvert^{2} \\omega_{k} + \\sum_{k=0}^{\\infty} b_{k} b^{+}_{k} \\omega_{k}$$"
       ],
       "metadata": {},
       "output_type": "display_data",
       "png": "[encoded data removed]",
       "text": [
        "              \u239b  \u221e                           \u239e                                \n",
        "              \u239c ___                          \u239f                                \n",
        "              \u239c \u2572                            \u239f                                \n",
        "              \u239c  \u2572   _______                 \u239f                                \n",
        "- -2.0\u22c5(-1)\u22c5  \u239c  \u2571   g[k, 2]\u22c5omega[k]\u22c5g[k, 1]\u239f + 1.0\u22c5epsilon[1] + 1.0\u22c5epsilon[\n",
        "              \u239c \u2571                            \u239f                                \n",
        "              \u239c \u203e\u203e\u203e                          \u239f                                \n",
        "            re\u239dl = 0                         \u23a0                                \n",
        "\n",
        "                                          \u221e                                  \u221e\n",
        "                                         ___                                __\n",
        "                                         \u2572                                  \u2572 \n",
        "                                          \u2572            2                     \u2572\n",
        "2] + 1.0\u22c5\\Delta \\epsilon[1, 2] - - -1.0\u22c5  \u2571   \u2502g[k, 1]\u2502 \u22c5omega[k] - - -1.0\u22c5  \u2571\n",
        "                                         \u2571                                  \u2571 \n",
        "                                         \u203e\u203e\u203e                                \u203e\u203e\n",
        "                                        k = 0                              k =\n",
        "\n",
        "                           \u221e                       \n",
        "_                         ___                      \n",
        "                          \u2572                        \n",
        "            2              \u2572   b[k]\u22c5b^+[k]\u22c5omega[k]\n",
        "   \u2502g[k, 2]\u2502 \u22c5omega[k] +   \u2571                       \n",
        "                          \u2571                        \n",
        "\u203e                         \u203e\u203e\u203e                      \n",
        " 0                       k = 0                     "
       ]
      },
      {
       "output_type": "stream",
       "stream": "stdout",
       "text": [
        "(7   7)"
       ]
      },
      {
       "latex": [
        "$$- 2.0 \\Re {\\left (\\sum_{l=0}^{\\infty} \\overline{g_{k,2}} \\omega_{k} g_{k,1} \\right )} - 2.0 \\Re {\\left (\\sum_{l=0}^{\\infty} \\overline{g_{k,3}} \\omega_{k} g_{k,1} \\right )} - 2.0 \\Re {\\left (\\sum_{l=0}^{\\infty} \\overline{g_{k,3}} \\omega_{k} g_{k,2} \\right )} + 1.0 \\epsilon_{1} + 1.0 \\epsilon_{2} + 1.0 \\epsilon_{3} + 1.0 \\Delta \\epsilon_{1,2} + 1.0 \\Delta \\epsilon_{1,3} + 1.0 \\Delta \\epsilon_{2,3} - 1.0 \\sum_{k=0}^{\\infty} \\left\\lvert{g_{k,1}}\\right\\rvert^{2} \\omega_{k} - 1.0 \\sum_{k=0}^{\\infty} \\left\\lvert{g_{k,2}}\\right\\rvert^{2} \\omega_{k} - 1.0 \\sum_{k=0}^{\\infty} \\left\\lvert{g_{k,3}}\\right\\rvert^{2} \\omega_{k} + \\sum_{k=0}^{\\infty} b_{k} b^{+}_{k} \\omega_{k}$$"
       ],
       "metadata": {},
       "output_type": "display_data",
       "png": "[encoded data removed]",
       "text": [
        "              \u239b  \u221e                           \u239e               \u239b  \u221e             \n",
        "              \u239c ___                          \u239f               \u239c ___            \n",
        "              \u239c \u2572                            \u239f               \u239c \u2572              \n",
        "              \u239c  \u2572   _______                 \u239f               \u239c  \u2572   _______   \n",
        "- -2.0\u22c5(-1)\u22c5  \u239c  \u2571   g[k, 2]\u22c5omega[k]\u22c5g[k, 1]\u239f - -2.0\u22c5(-1)\u22c5  \u239c  \u2571   g[k, 3]\u22c5om\n",
        "              \u239c \u2571                            \u239f               \u239c \u2571              \n",
        "              \u239c \u203e\u203e\u203e                          \u239f               \u239c \u203e\u203e\u203e            \n",
        "            re\u239dl = 0                         \u23a0             re\u239dl = 0           \n",
        "\n",
        "              \u239e               \u239b  \u221e                           \u239e                \n",
        "              \u239f               \u239c ___                          \u239f                \n",
        "              \u239f               \u239c \u2572                            \u239f                \n",
        "              \u239f               \u239c  \u2572   _______                 \u239f                \n",
        "ega[k]\u22c5g[k, 1]\u239f - -2.0\u22c5(-1)\u22c5  \u239c  \u2571   g[k, 3]\u22c5omega[k]\u22c5g[k, 2]\u239f + 1.0\u22c5epsilon[1\n",
        "              \u239f               \u239c \u2571                            \u239f                \n",
        "              \u239f               \u239c \u203e\u203e\u203e                          \u239f                \n",
        "              \u23a0             re\u239dl = 0                         \u23a0                \n",
        "\n",
        "                                                                              \n",
        "                                                                              \n",
        "                                                                              \n",
        "                                                                              \n",
        "] + 1.0\u22c5epsilon[2] + 1.0\u22c5epsilon[3] + 1.0\u22c5\\Delta \\epsilon[1, 2] + 1.0\u22c5\\Delta \\\n",
        "                                                                              \n",
        "                                                                              \n",
        "                                                                              \n",
        "\n",
        "                                                     \u221e                        \n",
        "                                                    ___                       \n",
        "                                                    \u2572                         \n",
        "                                                     \u2572            2           \n",
        "epsilon[1, 3] + 1.0\u22c5\\Delta \\epsilon[2, 3] - - -1.0\u22c5  \u2571   \u2502g[k, 1]\u2502 \u22c5omega[k] -\n",
        "                                                    \u2571                         \n",
        "                                                    \u203e\u203e\u203e                       \n",
        "                                                   k = 0                      \n",
        "\n",
        "          \u221e                                  \u221e                           \u221e    \n",
        "         ___                                ___                         ___   \n",
        "         \u2572                                  \u2572                           \u2572     \n",
        "          \u2572            2                     \u2572            2              \u2572   b\n",
        " - -1.0\u22c5  \u2571   \u2502g[k, 2]\u2502 \u22c5omega[k] - - -1.0\u22c5  \u2571   \u2502g[k, 3]\u2502 \u22c5omega[k] +   \u2571    \n",
        "         \u2571                                  \u2571                           \u2571     \n",
        "         \u203e\u203e\u203e                                \u203e\u203e\u203e                         \u203e\u203e\u203e   \n",
        "        k = 0                              k = 0                       k = 0  \n",
        "\n",
        "                   \n",
        "                   \n",
        "                   \n",
        "[k]\u22c5b^+[k]\u22c5omega[k]\n",
        "                   \n",
        "                   \n",
        "                   \n",
        "                   "
       ]
      },
      {
       "output_type": "stream",
       "stream": "stdout",
       "text": [
        "(8   8)"
       ]
      },
      {
       "latex": [
        "$$1.0 \\epsilon_{0} - 1.0 \\sum_{k=0}^{\\infty} \\left\\lvert{g_{k,0}}\\right\\rvert^{2} \\omega_{k} + \\sum_{k=0}^{\\infty} b_{k} b^{+}_{k} \\omega_{k}$$"
       ],
       "metadata": {},
       "output_type": "display_data",
       "png": "[encoded data removed]",
       "text": [
        "                          \u221e                           \u221e                       \n",
        "                         ___                         ___                      \n",
        "                         \u2572                           \u2572                        \n",
        "                          \u2572            2              \u2572   b[k]\u22c5b^+[k]\u22c5omega[k]\n",
        "1.0\u22c5epsilon[0] - - -1.0\u22c5  \u2571   \u2502g[k, 0]\u2502 \u22c5omega[k] +   \u2571                       \n",
        "                         \u2571                           \u2571                        \n",
        "                         \u203e\u203e\u203e                         \u203e\u203e\u203e                      \n",
        "                        k = 0                       k = 0                     "
       ]
      },
      {
       "output_type": "stream",
       "stream": "stdout",
       "text": [
        "(9   9)"
       ]
      },
      {
       "latex": [
        "$$- 2.0 \\Re {\\left (\\sum_{l=0}^{\\infty} \\overline{g_{k,3}} \\omega_{k} g_{k,0} \\right )} + 1.0 \\epsilon_{0} + 1.0 \\epsilon_{3} + 1.0 \\Delta \\epsilon_{0,3} - 1.0 \\sum_{k=0}^{\\infty} \\left\\lvert{g_{k,0}}\\right\\rvert^{2} \\omega_{k} - 1.0 \\sum_{k=0}^{\\infty} \\left\\lvert{g_{k,3}}\\right\\rvert^{2} \\omega_{k} + \\sum_{k=0}^{\\infty} b_{k} b^{+}_{k} \\omega_{k}$$"
       ],
       "metadata": {},
       "output_type": "display_data",
       "png": "[encoded data removed]",
       "text": [
        "              \u239b  \u221e                           \u239e                                \n",
        "              \u239c ___                          \u239f                                \n",
        "              \u239c \u2572                            \u239f                                \n",
        "              \u239c  \u2572   _______                 \u239f                                \n",
        "- -2.0\u22c5(-1)\u22c5  \u239c  \u2571   g[k, 3]\u22c5omega[k]\u22c5g[k, 0]\u239f + 1.0\u22c5epsilon[0] + 1.0\u22c5epsilon[\n",
        "              \u239c \u2571                            \u239f                                \n",
        "              \u239c \u203e\u203e\u203e                          \u239f                                \n",
        "            re\u239dl = 0                         \u23a0                                \n",
        "\n",
        "                                          \u221e                                  \u221e\n",
        "                                         ___                                __\n",
        "                                         \u2572                                  \u2572 \n",
        "                                          \u2572            2                     \u2572\n",
        "3] + 1.0\u22c5\\Delta \\epsilon[0, 3] - - -1.0\u22c5  \u2571   \u2502g[k, 0]\u2502 \u22c5omega[k] - - -1.0\u22c5  \u2571\n",
        "                                         \u2571                                  \u2571 \n",
        "                                         \u203e\u203e\u203e                                \u203e\u203e\n",
        "                                        k = 0                              k =\n",
        "\n",
        "                           \u221e                       \n",
        "_                         ___                      \n",
        "                          \u2572                        \n",
        "            2              \u2572   b[k]\u22c5b^+[k]\u22c5omega[k]\n",
        "   \u2502g[k, 3]\u2502 \u22c5omega[k] +   \u2571                       \n",
        "                          \u2571                        \n",
        "\u203e                         \u203e\u203e\u203e                      \n",
        " 0                       k = 0                     "
       ]
      },
      {
       "output_type": "stream",
       "stream": "stdout",
       "text": [
        "(10   10)"
       ]
      },
      {
       "latex": [
        "$$- 2.0 \\Re {\\left (\\sum_{l=0}^{\\infty} \\overline{g_{k,2}} \\omega_{k} g_{k,0} \\right )} + 1.0 \\epsilon_{0} + 1.0 \\epsilon_{2} + 1.0 \\Delta \\epsilon_{0,2} - 1.0 \\sum_{k=0}^{\\infty} \\left\\lvert{g_{k,0}}\\right\\rvert^{2} \\omega_{k} - 1.0 \\sum_{k=0}^{\\infty} \\left\\lvert{g_{k,2}}\\right\\rvert^{2} \\omega_{k} + \\sum_{k=0}^{\\infty} b_{k} b^{+}_{k} \\omega_{k}$$"
       ],
       "metadata": {},
       "output_type": "display_data",
       "png": "[encoded data removed]",
       "text": [
        "              \u239b  \u221e                           \u239e                                \n",
        "              \u239c ___                          \u239f                                \n",
        "              \u239c \u2572                            \u239f                                \n",
        "              \u239c  \u2572   _______                 \u239f                                \n",
        "- -2.0\u22c5(-1)\u22c5  \u239c  \u2571   g[k, 2]\u22c5omega[k]\u22c5g[k, 0]\u239f + 1.0\u22c5epsilon[0] + 1.0\u22c5epsilon[\n",
        "              \u239c \u2571                            \u239f                                \n",
        "              \u239c \u203e\u203e\u203e                          \u239f                                \n",
        "            re\u239dl = 0                         \u23a0                                \n",
        "\n",
        "                                          \u221e                                  \u221e\n",
        "                                         ___                                __\n",
        "                                         \u2572                                  \u2572 \n",
        "                                          \u2572            2                     \u2572\n",
        "2] + 1.0\u22c5\\Delta \\epsilon[0, 2] - - -1.0\u22c5  \u2571   \u2502g[k, 0]\u2502 \u22c5omega[k] - - -1.0\u22c5  \u2571\n",
        "                                         \u2571                                  \u2571 \n",
        "                                         \u203e\u203e\u203e                                \u203e\u203e\n",
        "                                        k = 0                              k =\n",
        "\n",
        "                           \u221e                       \n",
        "_                         ___                      \n",
        "                          \u2572                        \n",
        "            2              \u2572   b[k]\u22c5b^+[k]\u22c5omega[k]\n",
        "   \u2502g[k, 2]\u2502 \u22c5omega[k] +   \u2571                       \n",
        "                          \u2571                        \n",
        "\u203e                         \u203e\u203e\u203e                      \n",
        " 0                       k = 0                     "
       ]
      },
      {
       "output_type": "stream",
       "stream": "stdout",
       "text": [
        "(11   11)"
       ]
      },
      {
       "latex": [
        "$$- 2.0 \\Re {\\left (\\sum_{l=0}^{\\infty} \\overline{g_{k,2}} \\omega_{k} g_{k,0} \\right )} - 2.0 \\Re {\\left (\\sum_{l=0}^{\\infty} \\overline{g_{k,3}} \\omega_{k} g_{k,0} \\right )} - 2.0 \\Re {\\left (\\sum_{l=0}^{\\infty} \\overline{g_{k,3}} \\omega_{k} g_{k,2} \\right )} + 1.0 \\epsilon_{0} + 1.0 \\epsilon_{2} + 1.0 \\epsilon_{3} + 1.0 \\Delta \\epsilon_{0,2} + 1.0 \\Delta \\epsilon_{0,3} + 1.0 \\Delta \\epsilon_{2,3} - 1.0 \\sum_{k=0}^{\\infty} \\left\\lvert{g_{k,0}}\\right\\rvert^{2} \\omega_{k} - 1.0 \\sum_{k=0}^{\\infty} \\left\\lvert{g_{k,2}}\\right\\rvert^{2} \\omega_{k} - 1.0 \\sum_{k=0}^{\\infty} \\left\\lvert{g_{k,3}}\\right\\rvert^{2} \\omega_{k} + \\sum_{k=0}^{\\infty} b_{k} b^{+}_{k} \\omega_{k}$$"
       ],
       "metadata": {},
       "output_type": "display_data",
       "png": "[encoded data removed]",
       "text": [
        "              \u239b  \u221e                           \u239e               \u239b  \u221e             \n",
        "              \u239c ___                          \u239f               \u239c ___            \n",
        "              \u239c \u2572                            \u239f               \u239c \u2572              \n",
        "              \u239c  \u2572   _______                 \u239f               \u239c  \u2572   _______   \n",
        "- -2.0\u22c5(-1)\u22c5  \u239c  \u2571   g[k, 2]\u22c5omega[k]\u22c5g[k, 0]\u239f - -2.0\u22c5(-1)\u22c5  \u239c  \u2571   g[k, 3]\u22c5om\n",
        "              \u239c \u2571                            \u239f               \u239c \u2571              \n",
        "              \u239c \u203e\u203e\u203e                          \u239f               \u239c \u203e\u203e\u203e            \n",
        "            re\u239dl = 0                         \u23a0             re\u239dl = 0           \n",
        "\n",
        "              \u239e               \u239b  \u221e                           \u239e                \n",
        "              \u239f               \u239c ___                          \u239f                \n",
        "              \u239f               \u239c \u2572                            \u239f                \n",
        "              \u239f               \u239c  \u2572   _______                 \u239f                \n",
        "ega[k]\u22c5g[k, 0]\u239f - -2.0\u22c5(-1)\u22c5  \u239c  \u2571   g[k, 3]\u22c5omega[k]\u22c5g[k, 2]\u239f + 1.0\u22c5epsilon[0\n",
        "              \u239f               \u239c \u2571                            \u239f                \n",
        "              \u239f               \u239c \u203e\u203e\u203e                          \u239f                \n",
        "              \u23a0             re\u239dl = 0                         \u23a0                \n",
        "\n",
        "                                                                              \n",
        "                                                                              \n",
        "                                                                              \n",
        "                                                                              \n",
        "] + 1.0\u22c5epsilon[2] + 1.0\u22c5epsilon[3] + 1.0\u22c5\\Delta \\epsilon[0, 2] + 1.0\u22c5\\Delta \\\n",
        "                                                                              \n",
        "                                                                              \n",
        "                                                                              \n",
        "\n",
        "                                                     \u221e                        \n",
        "                                                    ___                       \n",
        "                                                    \u2572                         \n",
        "                                                     \u2572            2           \n",
        "epsilon[0, 3] + 1.0\u22c5\\Delta \\epsilon[2, 3] - - -1.0\u22c5  \u2571   \u2502g[k, 0]\u2502 \u22c5omega[k] -\n",
        "                                                    \u2571                         \n",
        "                                                    \u203e\u203e\u203e                       \n",
        "                                                   k = 0                      \n",
        "\n",
        "          \u221e                                  \u221e                           \u221e    \n",
        "         ___                                ___                         ___   \n",
        "         \u2572                                  \u2572                           \u2572     \n",
        "          \u2572            2                     \u2572            2              \u2572   b\n",
        " - -1.0\u22c5  \u2571   \u2502g[k, 2]\u2502 \u22c5omega[k] - - -1.0\u22c5  \u2571   \u2502g[k, 3]\u2502 \u22c5omega[k] +   \u2571    \n",
        "         \u2571                                  \u2571                           \u2571     \n",
        "         \u203e\u203e\u203e                                \u203e\u203e\u203e                         \u203e\u203e\u203e   \n",
        "        k = 0                              k = 0                       k = 0  \n",
        "\n",
        "                   \n",
        "                   \n",
        "                   \n",
        "[k]\u22c5b^+[k]\u22c5omega[k]\n",
        "                   \n",
        "                   \n",
        "                   \n",
        "                   "
       ]
      },
      {
       "output_type": "stream",
       "stream": "stdout",
       "text": [
        "(12   12)"
       ]
      },
      {
       "latex": [
        "$$- 2.0 \\Re {\\left (\\sum_{l=0}^{\\infty} \\overline{g_{k,1}} \\omega_{k} g_{k,0} \\right )} + 1.0 \\epsilon_{0} + 1.0 \\epsilon_{1} + 1.0 \\Delta \\epsilon_{0,1} - 1.0 \\sum_{k=0}^{\\infty} \\left\\lvert{g_{k,0}}\\right\\rvert^{2} \\omega_{k} - 1.0 \\sum_{k=0}^{\\infty} \\left\\lvert{g_{k,1}}\\right\\rvert^{2} \\omega_{k} + \\sum_{k=0}^{\\infty} b_{k} b^{+}_{k} \\omega_{k}$$"
       ],
       "metadata": {},
       "output_type": "display_data",
       "png": "[encoded data removed]",
       "text": [
        "              \u239b  \u221e                           \u239e                                \n",
        "              \u239c ___                          \u239f                                \n",
        "              \u239c \u2572                            \u239f                                \n",
        "              \u239c  \u2572   _______                 \u239f                                \n",
        "- -2.0\u22c5(-1)\u22c5  \u239c  \u2571   g[k, 1]\u22c5omega[k]\u22c5g[k, 0]\u239f + 1.0\u22c5epsilon[0] + 1.0\u22c5epsilon[\n",
        "              \u239c \u2571                            \u239f                                \n",
        "              \u239c \u203e\u203e\u203e                          \u239f                                \n",
        "            re\u239dl = 0                         \u23a0                                \n",
        "\n",
        "                                          \u221e                                  \u221e\n",
        "                                         ___                                __\n",
        "                                         \u2572                                  \u2572 \n",
        "                                          \u2572            2                     \u2572\n",
        "1] + 1.0\u22c5\\Delta \\epsilon[0, 1] - - -1.0\u22c5  \u2571   \u2502g[k, 0]\u2502 \u22c5omega[k] - - -1.0\u22c5  \u2571\n",
        "                                         \u2571                                  \u2571 \n",
        "                                         \u203e\u203e\u203e                                \u203e\u203e\n",
        "                                        k = 0                              k =\n",
        "\n",
        "                           \u221e                       \n",
        "_                         ___                      \n",
        "                          \u2572                        \n",
        "            2              \u2572   b[k]\u22c5b^+[k]\u22c5omega[k]\n",
        "   \u2502g[k, 1]\u2502 \u22c5omega[k] +   \u2571                       \n",
        "                          \u2571                        \n",
        "\u203e                         \u203e\u203e\u203e                      \n",
        " 0                       k = 0                     "
       ]
      },
      {
       "output_type": "stream",
       "stream": "stdout",
       "text": [
        "(13   13)"
       ]
      },
      {
       "latex": [
        "$$- 2.0 \\Re {\\left (\\sum_{l=0}^{\\infty} \\overline{g_{k,1}} \\omega_{k} g_{k,0} \\right )} - 2.0 \\Re {\\left (\\sum_{l=0}^{\\infty} \\overline{g_{k,3}} \\omega_{k} g_{k,0} \\right )} - 2.0 \\Re {\\left (\\sum_{l=0}^{\\infty} \\overline{g_{k,3}} \\omega_{k} g_{k,1} \\right )} + 1.0 \\epsilon_{0} + 1.0 \\epsilon_{1} + 1.0 \\epsilon_{3} + 1.0 \\Delta \\epsilon_{0,1} + 1.0 \\Delta \\epsilon_{0,3} + 1.0 \\Delta \\epsilon_{1,3} - 1.0 \\sum_{k=0}^{\\infty} \\left\\lvert{g_{k,0}}\\right\\rvert^{2} \\omega_{k} - 1.0 \\sum_{k=0}^{\\infty} \\left\\lvert{g_{k,1}}\\right\\rvert^{2} \\omega_{k} - 1.0 \\sum_{k=0}^{\\infty} \\left\\lvert{g_{k,3}}\\right\\rvert^{2} \\omega_{k} + \\sum_{k=0}^{\\infty} b_{k} b^{+}_{k} \\omega_{k}$$"
       ],
       "metadata": {},
       "output_type": "display_data",
       "png": "[encoded data removed]",
       "text": [
        "              \u239b  \u221e                           \u239e               \u239b  \u221e             \n",
        "              \u239c ___                          \u239f               \u239c ___            \n",
        "              \u239c \u2572                            \u239f               \u239c \u2572              \n",
        "              \u239c  \u2572   _______                 \u239f               \u239c  \u2572   _______   \n",
        "- -2.0\u22c5(-1)\u22c5  \u239c  \u2571   g[k, 1]\u22c5omega[k]\u22c5g[k, 0]\u239f - -2.0\u22c5(-1)\u22c5  \u239c  \u2571   g[k, 3]\u22c5om\n",
        "              \u239c \u2571                            \u239f               \u239c \u2571              \n",
        "              \u239c \u203e\u203e\u203e                          \u239f               \u239c \u203e\u203e\u203e            \n",
        "            re\u239dl = 0                         \u23a0             re\u239dl = 0           \n",
        "\n",
        "              \u239e               \u239b  \u221e                           \u239e                \n",
        "              \u239f               \u239c ___                          \u239f                \n",
        "              \u239f               \u239c \u2572                            \u239f                \n",
        "              \u239f               \u239c  \u2572   _______                 \u239f                \n",
        "ega[k]\u22c5g[k, 0]\u239f - -2.0\u22c5(-1)\u22c5  \u239c  \u2571   g[k, 3]\u22c5omega[k]\u22c5g[k, 1]\u239f + 1.0\u22c5epsilon[0\n",
        "              \u239f               \u239c \u2571                            \u239f                \n",
        "              \u239f               \u239c \u203e\u203e\u203e                          \u239f                \n",
        "              \u23a0             re\u239dl = 0                         \u23a0                \n",
        "\n",
        "                                                                              \n",
        "                                                                              \n",
        "                                                                              \n",
        "                                                                              \n",
        "] + 1.0\u22c5epsilon[1] + 1.0\u22c5epsilon[3] + 1.0\u22c5\\Delta \\epsilon[0, 1] + 1.0\u22c5\\Delta \\\n",
        "                                                                              \n",
        "                                                                              \n",
        "                                                                              \n",
        "\n",
        "                                                     \u221e                        \n",
        "                                                    ___                       \n",
        "                                                    \u2572                         \n",
        "                                                     \u2572            2           \n",
        "epsilon[0, 3] + 1.0\u22c5\\Delta \\epsilon[1, 3] - - -1.0\u22c5  \u2571   \u2502g[k, 0]\u2502 \u22c5omega[k] -\n",
        "                                                    \u2571                         \n",
        "                                                    \u203e\u203e\u203e                       \n",
        "                                                   k = 0                      \n",
        "\n",
        "          \u221e                                  \u221e                           \u221e    \n",
        "         ___                                ___                         ___   \n",
        "         \u2572                                  \u2572                           \u2572     \n",
        "          \u2572            2                     \u2572            2              \u2572   b\n",
        " - -1.0\u22c5  \u2571   \u2502g[k, 1]\u2502 \u22c5omega[k] - - -1.0\u22c5  \u2571   \u2502g[k, 3]\u2502 \u22c5omega[k] +   \u2571    \n",
        "         \u2571                                  \u2571                           \u2571     \n",
        "         \u203e\u203e\u203e                                \u203e\u203e\u203e                         \u203e\u203e\u203e   \n",
        "        k = 0                              k = 0                       k = 0  \n",
        "\n",
        "                   \n",
        "                   \n",
        "                   \n",
        "[k]\u22c5b^+[k]\u22c5omega[k]\n",
        "                   \n",
        "                   \n",
        "                   \n",
        "                   "
       ]
      },
      {
       "output_type": "stream",
       "stream": "stdout",
       "text": [
        "(14   14)"
       ]
      },
      {
       "latex": [
        "$$- 2.0 \\Re {\\left (\\sum_{l=0}^{\\infty} \\overline{g_{k,1}} \\omega_{k} g_{k,0} \\right )} - 2.0 \\Re {\\left (\\sum_{l=0}^{\\infty} \\overline{g_{k,2}} \\omega_{k} g_{k,0} \\right )} - 2.0 \\Re {\\left (\\sum_{l=0}^{\\infty} \\overline{g_{k,2}} \\omega_{k} g_{k,1} \\right )} + 1.0 \\epsilon_{0} + 1.0 \\epsilon_{1} + 1.0 \\epsilon_{2} + 1.0 \\Delta \\epsilon_{0,1} + 1.0 \\Delta \\epsilon_{0,2} + 1.0 \\Delta \\epsilon_{1,2} - 1.0 \\sum_{k=0}^{\\infty} \\left\\lvert{g_{k,0}}\\right\\rvert^{2} \\omega_{k} - 1.0 \\sum_{k=0}^{\\infty} \\left\\lvert{g_{k,1}}\\right\\rvert^{2} \\omega_{k} - 1.0 \\sum_{k=0}^{\\infty} \\left\\lvert{g_{k,2}}\\right\\rvert^{2} \\omega_{k} + \\sum_{k=0}^{\\infty} b_{k} b^{+}_{k} \\omega_{k}$$"
       ],
       "metadata": {},
       "output_type": "display_data",
       "png": "[encoded data removed]",
       "text": [
        "              \u239b  \u221e                           \u239e               \u239b  \u221e             \n",
        "              \u239c ___                          \u239f               \u239c ___            \n",
        "              \u239c \u2572                            \u239f               \u239c \u2572              \n",
        "              \u239c  \u2572   _______                 \u239f               \u239c  \u2572   _______   \n",
        "- -2.0\u22c5(-1)\u22c5  \u239c  \u2571   g[k, 1]\u22c5omega[k]\u22c5g[k, 0]\u239f - -2.0\u22c5(-1)\u22c5  \u239c  \u2571   g[k, 2]\u22c5om\n",
        "              \u239c \u2571                            \u239f               \u239c \u2571              \n",
        "              \u239c \u203e\u203e\u203e                          \u239f               \u239c \u203e\u203e\u203e            \n",
        "            re\u239dl = 0                         \u23a0             re\u239dl = 0           \n",
        "\n",
        "              \u239e               \u239b  \u221e                           \u239e                \n",
        "              \u239f               \u239c ___                          \u239f                \n",
        "              \u239f               \u239c \u2572                            \u239f                \n",
        "              \u239f               \u239c  \u2572   _______                 \u239f                \n",
        "ega[k]\u22c5g[k, 0]\u239f - -2.0\u22c5(-1)\u22c5  \u239c  \u2571   g[k, 2]\u22c5omega[k]\u22c5g[k, 1]\u239f + 1.0\u22c5epsilon[0\n",
        "              \u239f               \u239c \u2571                            \u239f                \n",
        "              \u239f               \u239c \u203e\u203e\u203e                          \u239f                \n",
        "              \u23a0             re\u239dl = 0                         \u23a0                \n",
        "\n",
        "                                                                              \n",
        "                                                                              \n",
        "                                                                              \n",
        "                                                                              \n",
        "] + 1.0\u22c5epsilon[1] + 1.0\u22c5epsilon[2] + 1.0\u22c5\\Delta \\epsilon[0, 1] + 1.0\u22c5\\Delta \\\n",
        "                                                                              \n",
        "                                                                              \n",
        "                                                                              \n",
        "\n",
        "                                                     \u221e                        \n",
        "                                                    ___                       \n",
        "                                                    \u2572                         \n",
        "                                                     \u2572            2           \n",
        "epsilon[0, 2] + 1.0\u22c5\\Delta \\epsilon[1, 2] - - -1.0\u22c5  \u2571   \u2502g[k, 0]\u2502 \u22c5omega[k] -\n",
        "                                                    \u2571                         \n",
        "                                                    \u203e\u203e\u203e                       \n",
        "                                                   k = 0                      \n",
        "\n",
        "          \u221e                                  \u221e                           \u221e    \n",
        "         ___                                ___                         ___   \n",
        "         \u2572                                  \u2572                           \u2572     \n",
        "          \u2572            2                     \u2572            2              \u2572   b\n",
        " - -1.0\u22c5  \u2571   \u2502g[k, 1]\u2502 \u22c5omega[k] - - -1.0\u22c5  \u2571   \u2502g[k, 2]\u2502 \u22c5omega[k] +   \u2571    \n",
        "         \u2571                                  \u2571                           \u2571     \n",
        "         \u203e\u203e\u203e                                \u203e\u203e\u203e                         \u203e\u203e\u203e   \n",
        "        k = 0                              k = 0                       k = 0  \n",
        "\n",
        "                   \n",
        "                   \n",
        "                   \n",
        "[k]\u22c5b^+[k]\u22c5omega[k]\n",
        "                   \n",
        "                   \n",
        "                   \n",
        "                   "
       ]
      },
      {
       "output_type": "stream",
       "stream": "stdout",
       "text": [
        "(15   15)"
       ]
      },
      {
       "latex": [
        "$$- 2.0 \\Re {\\left (\\sum_{l=0}^{\\infty} \\overline{g_{k,1}} \\omega_{k} g_{k,0} \\right )} - 2.0 \\Re {\\left (\\sum_{l=0}^{\\infty} \\overline{g_{k,2}} \\omega_{k} g_{k,0} \\right )} - 2.0 \\Re {\\left (\\sum_{l=0}^{\\infty} \\overline{g_{k,2}} \\omega_{k} g_{k,1} \\right )} - 2.0 \\Re {\\left (\\sum_{l=0}^{\\infty} \\overline{g_{k,3}} \\omega_{k} g_{k,0} \\right )} - 2.0 \\Re {\\left (\\sum_{l=0}^{\\infty} \\overline{g_{k,3}} \\omega_{k} g_{k,1} \\right )} - 2.0 \\Re {\\left (\\sum_{l=0}^{\\infty} \\overline{g_{k,3}} \\omega_{k} g_{k,2} \\right )} + 1.0 \\epsilon_{0} + 1.0 \\epsilon_{1} + 1.0 \\epsilon_{2} + 1.0 \\epsilon_{3} + 1.0 \\Delta \\epsilon_{0,1} + 1.0 \\Delta \\epsilon_{0,2} + 1.0 \\Delta \\epsilon_{0,3} + 1.0 \\Delta \\epsilon_{1,2} + 1.0 \\Delta \\epsilon_{1,3} + 1.0 \\Delta \\epsilon_{2,3} - 1.0 \\sum_{k=0}^{\\infty} \\left\\lvert{g_{k,0}}\\right\\rvert^{2} \\omega_{k} - 1.0 \\sum_{k=0}^{\\infty} \\left\\lvert{g_{k,1}}\\right\\rvert^{2} \\omega_{k} - 1.0 \\sum_{k=0}^{\\infty} \\left\\lvert{g_{k,2}}\\right\\rvert^{2} \\omega_{k} - 1.0 \\sum_{k=0}^{\\infty} \\left\\lvert{g_{k,3}}\\right\\rvert^{2} \\omega_{k} + \\sum_{k=0}^{\\infty} b_{k} b^{+}_{k} \\omega_{k}$$"
       ],
       "metadata": {},
       "output_type": "display_data",
       "png": "[encoded data removed]",
       "text": [
        "              \u239b  \u221e                           \u239e               \u239b  \u221e             \n",
        "              \u239c ___                          \u239f               \u239c ___            \n",
        "              \u239c \u2572                            \u239f               \u239c \u2572              \n",
        "              \u239c  \u2572   _______                 \u239f               \u239c  \u2572   _______   \n",
        "- -2.0\u22c5(-1)\u22c5  \u239c  \u2571   g[k, 1]\u22c5omega[k]\u22c5g[k, 0]\u239f - -2.0\u22c5(-1)\u22c5  \u239c  \u2571   g[k, 2]\u22c5om\n",
        "              \u239c \u2571                            \u239f               \u239c \u2571              \n",
        "              \u239c \u203e\u203e\u203e                          \u239f               \u239c \u203e\u203e\u203e            \n",
        "            re\u239dl = 0                         \u23a0             re\u239dl = 0           \n",
        "\n",
        "              \u239e               \u239b  \u221e                           \u239e               \u239b\n",
        "              \u239f               \u239c ___                          \u239f               \u239c\n",
        "              \u239f               \u239c \u2572                            \u239f               \u239c\n",
        "              \u239f               \u239c  \u2572   _______                 \u239f               \u239c\n",
        "ega[k]\u22c5g[k, 0]\u239f - -2.0\u22c5(-1)\u22c5  \u239c  \u2571   g[k, 2]\u22c5omega[k]\u22c5g[k, 1]\u239f - -2.0\u22c5(-1)\u22c5  \u239c\n",
        "              \u239f               \u239c \u2571                            \u239f               \u239c\n",
        "              \u239f               \u239c \u203e\u203e\u203e                          \u239f               \u239c\n",
        "              \u23a0             re\u239dl = 0                         \u23a0             re\u239d\n",
        "\n",
        "  \u221e                           \u239e               \u239b  \u221e                           \u239e\n",
        " ___                          \u239f               \u239c ___                          \u239f\n",
        " \u2572                            \u239f               \u239c \u2572                            \u239f\n",
        "  \u2572   _______                 \u239f               \u239c  \u2572   _______                 \u239f\n",
        "  \u2571   g[k, 3]\u22c5omega[k]\u22c5g[k, 0]\u239f - -2.0\u22c5(-1)\u22c5  \u239c  \u2571   g[k, 3]\u22c5omega[k]\u22c5g[k, 1]\u239f\n",
        " \u2571                            \u239f               \u239c \u2571                            \u239f\n",
        " \u203e\u203e\u203e                          \u239f               \u239c \u203e\u203e\u203e                          \u239f\n",
        "l = 0                         \u23a0             re\u239dl = 0                         \u23a0\n",
        "\n",
        "               \u239b  \u221e                           \u239e                               \n",
        "               \u239c ___                          \u239f                               \n",
        "               \u239c \u2572                            \u239f                               \n",
        "               \u239c  \u2572   _______                 \u239f                               \n",
        " - -2.0\u22c5(-1)\u22c5  \u239c  \u2571   g[k, 3]\u22c5omega[k]\u22c5g[k, 2]\u239f + 1.0\u22c5epsilon[0] + 1.0\u22c5epsilon\n",
        "               \u239c \u2571                            \u239f                               \n",
        "               \u239c \u203e\u203e\u203e                          \u239f                               \n",
        "             re\u239dl = 0                         \u23a0                               \n",
        "\n",
        "                                                                              \n",
        "                                                                              \n",
        "                                                                              \n",
        "                                                                              \n",
        "[1] + 1.0\u22c5epsilon[2] + 1.0\u22c5epsilon[3] + 1.0\u22c5\\Delta \\epsilon[0, 1] + 1.0\u22c5\\Delta\n",
        "                                                                              \n",
        "                                                                              \n",
        "                                                                              \n",
        "\n",
        "                                                                              \n",
        "                                                                              \n",
        "                                                                              \n",
        "                                                                              \n",
        " \\epsilon[0, 2] + 1.0\u22c5\\Delta \\epsilon[0, 3] + 1.0\u22c5\\Delta \\epsilon[1, 2] + 1.0\u22c5\n",
        "                                                                              \n",
        "                                                                              \n",
        "                                                                              \n",
        "\n",
        "                                                             \u221e                \n",
        "                                                            ___               \n",
        "                                                            \u2572                 \n",
        "                                                             \u2572            2   \n",
        "\\Delta \\epsilon[1, 3] + 1.0\u22c5\\Delta \\epsilon[2, 3] - - -1.0\u22c5  \u2571   \u2502g[k, 0]\u2502 \u22c5om\n",
        "                                                            \u2571                 \n",
        "                                                            \u203e\u203e\u203e               \n",
        "                                                           k = 0              \n",
        "\n",
        "                  \u221e                                  \u221e                        \n",
        "                 ___                                ___                       \n",
        "                 \u2572                                  \u2572                         \n",
        "                  \u2572            2                     \u2572            2           \n",
        "ega[k] - - -1.0\u22c5  \u2571   \u2502g[k, 1]\u2502 \u22c5omega[k] - - -1.0\u22c5  \u2571   \u2502g[k, 2]\u2502 \u22c5omega[k] -\n",
        "                 \u2571                                  \u2571                         \n",
        "                 \u203e\u203e\u203e                                \u203e\u203e\u203e                       \n",
        "                k = 0                              k = 0                      \n",
        "\n",
        "          \u221e                           \u221e                       \n",
        "         ___                         ___                      \n",
        "         \u2572                           \u2572                        \n",
        "          \u2572            2              \u2572   b[k]\u22c5b^+[k]\u22c5omega[k]\n",
        " - -1.0\u22c5  \u2571   \u2502g[k, 3]\u2502 \u22c5omega[k] +   \u2571                       \n",
        "         \u2571                           \u2571                        \n",
        "         \u203e\u203e\u203e                         \u203e\u203e\u203e                      \n",
        "        k = 0                       k = 0                     "
       ]
      }
     ],
     "prompt_number": 16
    },
    {
     "cell_type": "heading",
     "level": 2,
     "metadata": {},
     "source": [
      "Now we should trace reservoir! But first g_k!"
     ]
    },
    {
     "cell_type": "code",
     "collapsed": false,
     "input": [
      "sigma_e = 8 \n",
      "sigma_h = -1\n",
      "c = 5.6\n",
      "ro = 5600\n",
      "le= 4.4\n",
      "lh = 3.6\n",
      "lz = 1\n",
      "T = 300\n",
      "kb = 1e-34\n",
      "d0 = 1\n",
      "\n",
      "Re = Symbol('k')\n",
      "V = Symbol('V')\n",
      "phi = Symbol('phi')\n",
      "theta = Symbol('theta')\n",
      "f_num = []\n",
      "kx = k*cos(phi)*sin(theta)\n",
      "ky = k*sin(phi)*sin(theta)\n",
      "kz = k*cos(theta) #xy plane\n",
      "kp = [kx, ky, kx, ky]\n",
      "d = [kx*d0/2, ky*d0/2, -kx*d0/2, -ky*d0/2]\n",
      "\n",
      "for i in range(4):\n",
      "    f_num.append((k/(2*ro*V*c))**0.5*exp(-lz**2*kz**2/4)*(sigma_e*exp(-le**2*kp[i]**2/4) - sigma_h * exp(-lh**2*kp[i]**2/4))*exp(1.0j*kz*d[i]))\n",
      "\n",
      "g_num = []\n",
      "for f in f_num:\n",
      "    g_num.append(f / c* k)\n",
      "g_num[0]\n",
      "omega= c*k\n",
      "z = exp(-omega/(kb*T))\n",
      "nk= z/(1-z)\n",
      "#integral 1:\n",
      "\n",
      "\n",
      "#integral 2:\n",
      "\n",
      "\n",
      "#integral 3:\n",
      "nk"
     ],
     "language": "python",
     "metadata": {},
     "outputs": [
      {
       "latex": [
        "$$\\frac{e^{- 1.86666666666667 \\cdot 10^{32} k}}{- e^{- 1.86666666666667 \\cdot 10^{32} k} + 1}$$"
       ],
       "metadata": {},
       "output_type": "pyout",
       "png": "[encoded data removed]",
       "prompt_number": 36,
       "text": [
        "    -1.86666666666667e+32\u22c5k   \n",
        "   \u212f                          \n",
        "\u2500\u2500\u2500\u2500\u2500\u2500\u2500\u2500\u2500\u2500\u2500\u2500\u2500\u2500\u2500\u2500\u2500\u2500\u2500\u2500\u2500\u2500\u2500\u2500\u2500\u2500\u2500\u2500\u2500\u2500\n",
        "   -1.86666666666667e+32\u22c5k    \n",
        "- \u212f                        + 1"
       ]
      }
     ],
     "prompt_number": 36
    },
    {
     "cell_type": "code",
     "collapsed": false,
     "input": [],
     "language": "python",
     "metadata": {},
     "outputs": []
    }
   ],
   "metadata": {}
  }
 ]
}