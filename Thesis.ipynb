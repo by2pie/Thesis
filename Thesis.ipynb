{
 "metadata": {
  "name": "",
  "signature": "sha256:514228b932219b7571b8168a1f7ffbf255e0efdd10f8c38334ae1de7d1c7bccb"
 },
 "nbformat": 3,
 "nbformat_minor": 0,
 "worksheets": [
  {
   "cells": [
    {
     "cell_type": "code",
     "collapsed": false,
     "input": [
      "from sympy import *\n",
      "import numpy as np\n",
      "from itertools import *\n",
      "init_printing() \n",
      "__author__      = \"Jan Krzywda\""
     ],
     "language": "python",
     "metadata": {},
     "outputs": [],
     "prompt_number": 1
    },
    {
     "cell_type": "code",
     "collapsed": false,
     "input": [
      "import qutip as q"
     ],
     "language": "python",
     "metadata": {},
     "outputs": [],
     "prompt_number": 9
    },
    {
     "cell_type": "markdown",
     "metadata": {},
     "source": [
      "$$\n",
      "\\newcommand{\\bra}[1]{\\left\\langle #1 \\right\\vert }\n",
      "\\newcommand{\\ket}[1]{\\left\\vert #1 \\right\\rangle }\n",
      "\\newcommand{\\ketbra}[2]{\\left\\vert #1 \\right\\rangle \\left\\langle #2 \\right\\vert }\n",
      "$$"
     ]
    },
    {
     "cell_type": "heading",
     "level": 1,
     "metadata": {},
     "source": [
      "Diploma thesis"
     ]
    },
    {
     "cell_type": "markdown",
     "metadata": {},
     "source": [
      "Title: ?"
     ]
    },
    {
     "cell_type": "markdown",
     "metadata": {},
     "source": [
      "Defininition of constants in order: $\\epsilon , f_k^{(i)}, \\omega_k, \\Delta \\epsilon$ (TO DO):"
     ]
    },
    {
     "cell_type": "code",
     "collapsed": false,
     "input": [
      "eps = np.array([1, 1, 1, 1]).reshape(1,4)#energy of ith q_dot\n",
      "f = np.ones((4,2)).reshape(4,2)  #coupling constant for deformation potential\n",
      "print(f)\n",
      "omega = np.array([1,1]).reshape(1,2)   #phonon modes\n",
      "d_eps = np.array([[1, 1, 1, 1],[1,1,1,1],[1,1,1,1],[1,1,1,1]]).reshape(4,4)  #interaction shift"
     ],
     "language": "python",
     "metadata": {},
     "outputs": [
      {
       "output_type": "stream",
       "stream": "stdout",
       "text": [
        "[[ 1.  1.]\n",
        " [ 1.  1.]\n",
        " [ 1.  1.]\n",
        " [ 1.  1.]]\n"
       ]
      }
     ],
     "prompt_number": 3
    },
    {
     "cell_type": "markdown",
     "metadata": {},
     "source": [
      "Shorthand definitions:"
     ]
    },
    {
     "cell_type": "code",
     "collapsed": false,
     "input": [
      "N = 4   #number of quanutm dots\n",
      "phonons_num = 2 #number of phonon modes\n",
      "base={0:q.fock_dm(2,0), 1:q.fock_dm(2,1), I:q.qeye(2)} #dictionary 0-> |0><0| 1-> |1><1| I-> I\n",
      "\n",
      "def q_state(qubits, n=4, phonons=True):\n",
      "\n",
      "#Returns tensor product of subsystems given in a form [state1, state2, state3...]\n",
      "#    Param:\n",
      "#    qubits - system state ex [0,0,0,1] means |0001>\n",
      "#    n - number of qubits\n",
      "#    phonons - returning with or without tensor product with reservoir\n",
      "\n",
      "    to_tensor = []\n",
      "    for qubit in qubits:\n",
      "        to_tensor.append(base[qubit])\n",
      "    if phonons:\n",
      "        return q.tensor(to_tensor + [q.qeye(phonons_num)])\n",
      "    else:\n",
      "        return q.tensor(to_tensor)\n",
      "    \n",
      "def pair(i,j):\n",
      "\n",
      "#    Returns state of subsystems in pair exited state given in a form [state1, state2, state3...]\n",
      "#    Param:\n",
      "#    i - first exited subsystem\n",
      "#    j - second exited subsystem\n",
      "\n",
      "    states = [I,I,I,I]\n",
      "    states[j] = 1\n",
      "    states[i] = 1\n",
      "    return states\n",
      "\n",
      "def one(i):\n",
      "#    Returns state of subsystems in single exited state given in a form [state1, state2, state3...]\n",
      "#    Param:\n",
      "#    i - exited subsystem\n",
      " \n",
      "    states = [I,I,I,I]\n",
      "    states[i] = 1\n",
      "    return states"
     ],
     "language": "python",
     "metadata": {},
     "outputs": [],
     "prompt_number": 4
    },
    {
     "cell_type": "heading",
     "level": 2,
     "metadata": {},
     "source": [
      "1. Hamiltonian for pair of quantum dots:"
     ]
    },
    {
     "cell_type": "markdown",
     "metadata": {},
     "source": [
      "I would like to analyse hamiltonian of a system for set of two quantum dots and <diagonalizowac> it:"
     ]
    },
    {
     "cell_type": "markdown",
     "metadata": {},
     "source": [
      "\\begin{equation*}\n",
      "H_{ij} = \\epsilon_i (\\ketbra{1}{1}_i \\otimes I_j) + \\epsilon_j (I_i\\otimes\\ketbra{1}{1}_j) + \\Delta \\epsilon_{ij}(|\\ketbra{1}{1}_i \\otimes \\ketbra{1}{1}_j) + (\\ketbra{1}{1}_i \\otimes I_j)\\sum_k f_k^{(1)}(b_k^+ + b_{-k})+( I_i \\otimes \\ketbra{1}{1}_j)\\sum_k f_k^{(2)}(b_k^+ + b_{-k}) + \\sum_k \\omega_k b_k^+ b_k\n",
      "\\end{equation*}"
     ]
    },
    {
     "cell_type": "markdown",
     "metadata": {},
     "source": [
      "Using Weil transformation:"
     ]
    },
    {
     "cell_type": "markdown",
     "metadata": {},
     "source": [
      "\\begin{equation*}\n",
      "\\mathbb{W} = \\sum_{i=1}^3 \\ket{i}\\bra{i} \\, exp[\\sum_k g_k^{(i)*} - H.c.]\n",
      "\\end{equation*}\n",
      "\n",
      "Where: $$g_k^{(i)} = \\frac{f_k^{(i)}} {\\omega_k}$$ "
     ]
    },
    {
     "cell_type": "markdown",
     "metadata": {},
     "source": [
      "We should obtain:"
     ]
    },
    {
     "cell_type": "markdown",
     "metadata": {},
     "source": [
      "\\begin{equation*}\n",
      "\\tilde{H} = \\mathbb{W}H\\mathbb{W}^+ = \\tilde{H}_L + \\tilde{H}_I + \\tilde{H}_{res}\n",
      "\\end{equation*}"
     ]
    },
    {
     "cell_type": "markdown",
     "metadata": {},
     "source": [
      "Expanding RHS tems:"
     ]
    },
    {
     "cell_type": "markdown",
     "metadata": {},
     "source": [
      "Local evolution of subsystems:\n",
      "\n",
      "\\begin{equation*}\n",
      "\\tilde{H}_L = E_{i}(\\ket{1} \\bra{1} \\otimes I) + E_{j}(I \\otimes \\ket{1} \\bra{1})\n",
      "\\end{equation*}\n",
      "\n",
      "Where: $E_i = \\epsilon_i - \\sum_k \\omega_k |g_k^{(i)}|^2$\n",
      "\n"
     ]
    },
    {
     "cell_type": "code",
     "collapsed": false,
     "input": [
      "E = np.zeros((4)).reshape(4)\n",
      "i = 0  #first qubit\n",
      "j = 1  #second qubit\n",
      "\n",
      "for d in range(2):\n",
      "    E[d] = np.dot(np.abs(f[d].reshape(1,phonons_num)**2),1/omega.T) \n",
      "    \n",
      "H_l = E[0]*(q.tensor(q.fock_dm(2,1),q.qeye(2))) + E[1]*(q.tensor(q.qeye(2),q.fock_dm(2,1)))\n",
      "H_l"
     ],
     "language": "python",
     "metadata": {},
     "outputs": [
      {
       "latex": [
        "Quantum object: dims = [[2, 2], [2, 2]], shape = [4, 4], type = oper, isherm = True\\begin{equation*}\\left(\\begin{array}{*{11}c}0.0 & 0.0 & 0.0 & 0.0\\\\0.0 & 2.0 & 0.0 & 0.0\\\\0.0 & 0.0 & 2.0 & 0.0\\\\0.0 & 0.0 & 0.0 & 4.0\\\\\\end{array}\\right)\\end{equation*}"
       ],
       "metadata": {},
       "output_type": "pyout",
       "prompt_number": 5,
       "text": [
        "Quantum object: dims = [[2, 2], [2, 2]], shape = [4, 4], type = oper, isherm = True\n",
        "Qobj data =\n",
        "[[ 0.  0.  0.  0.]\n",
        " [ 0.  2.  0.  0.]\n",
        " [ 0.  0.  2.  0.]\n",
        " [ 0.  0.  0.  4.]]"
       ]
      }
     ],
     "prompt_number": 5
    },
    {
     "cell_type": "markdown",
     "metadata": {},
     "source": [
      "Their interaction:\n",
      "\n",
      "\\begin{equation*}\n",
      "\\tilde{H}_I = \\Delta E_{ij} (\\ket{1} \\bra{1} \\otimes \\ket{1} \\bra{1})\n",
      "\\end{equation*}\n",
      "\n",
      "Where: $\\Delta E_{ij} = \\Delta \\epsilon_{ij} - 2Re \\sum_k \\omega_k g_k^{(1)} g_k^{(2)*}$\n",
      "\n"
     ]
    },
    {
     "cell_type": "code",
     "collapsed": false,
     "input": [
      "i,j = 0,1\n",
      "H_I = q_state(pair(i,j)) * (d_eps[i,j])\n",
      "H_I"
     ],
     "language": "python",
     "metadata": {},
     "outputs": [
      {
       "latex": [
        "Quantum object: dims = [[2, 2, 2, 2, 2], [2, 2, 2, 2, 2]], shape = [32, 32], type = oper, isherm = True\\begin{equation*}\\left(\\begin{array}{*{11}c}0.0 & 0.0 & 0.0 & 0.0 & 0.0 & \\cdots & 0.0 & 0.0 & 0.0 & 0.0 & 0.0\\\\0.0 & 0.0 & 0.0 & 0.0 & 0.0 & \\cdots & 0.0 & 0.0 & 0.0 & 0.0 & 0.0\\\\0.0 & 0.0 & 0.0 & 0.0 & 0.0 & \\cdots & 0.0 & 0.0 & 0.0 & 0.0 & 0.0\\\\0.0 & 0.0 & 0.0 & 0.0 & 0.0 & \\cdots & 0.0 & 0.0 & 0.0 & 0.0 & 0.0\\\\0.0 & 0.0 & 0.0 & 0.0 & 0.0 & \\cdots & 0.0 & 0.0 & 0.0 & 0.0 & 0.0\\\\\\vdots & \\vdots & \\vdots & \\vdots & \\vdots & \\ddots & \\vdots & \\vdots & \\vdots & \\vdots & \\vdots\\\\0.0 & 0.0 & 0.0 & 0.0 & 0.0 & \\cdots & 1.0 & 0.0 & 0.0 & 0.0 & 0.0\\\\0.0 & 0.0 & 0.0 & 0.0 & 0.0 & \\cdots & 0.0 & 1.0 & 0.0 & 0.0 & 0.0\\\\0.0 & 0.0 & 0.0 & 0.0 & 0.0 & \\cdots & 0.0 & 0.0 & 1.0 & 0.0 & 0.0\\\\0.0 & 0.0 & 0.0 & 0.0 & 0.0 & \\cdots & 0.0 & 0.0 & 0.0 & 1.0 & 0.0\\\\0.0 & 0.0 & 0.0 & 0.0 & 0.0 & \\cdots & 0.0 & 0.0 & 0.0 & 0.0 & 1.0\\\\\\end{array}\\right)\\end{equation*}"
       ],
       "metadata": {},
       "output_type": "pyout",
       "prompt_number": 10,
       "text": [
        "Quantum object: dims = [[2, 2, 2, 2, 2], [2, 2, 2, 2, 2]], shape = [32, 32], type = oper, isherm = True\n",
        "Qobj data =\n",
        "[[ 0.  0.  0. ...,  0.  0.  0.]\n",
        " [ 0.  0.  0. ...,  0.  0.  0.]\n",
        " [ 0.  0.  0. ...,  0.  0.  0.]\n",
        " ..., \n",
        " [ 0.  0.  0. ...,  1.  0.  0.]\n",
        " [ 0.  0.  0. ...,  0.  1.  0.]\n",
        " [ 0.  0.  0. ...,  0.  0.  1.]]"
       ]
      }
     ],
     "prompt_number": 10
    },
    {
     "cell_type": "markdown",
     "metadata": {},
     "source": [
      "Reservoir:\n",
      "\n",
      "\\begin{equation*}\n",
      "\\tilde{H}_{res} = \\sum_k \\omega_k b_k^+ b_k\n",
      "\\end{equation*}"
     ]
    },
    {
     "cell_type": "code",
     "collapsed": false,
     "input": [
      "H_ph = 0\n",
      "for i,om in enumerate(list(omega[0])):\n",
      "    H_ph+=(om*q.create(phonons_num, i)*q.destroy(phonons_num, i))\n",
      "H_ph"
     ],
     "language": "python",
     "metadata": {},
     "outputs": [
      {
       "latex": [
        "Quantum object: dims = [[2], [2]], shape = [2, 2], type = oper, isherm = True\\begin{equation*}\\left(\\begin{array}{*{11}c}0.0 & 0.0\\\\0.0 & 3.0\\\\\\end{array}\\right)\\end{equation*}"
       ],
       "metadata": {},
       "output_type": "pyout",
       "prompt_number": 13,
       "text": [
        "Quantum object: dims = [[2], [2]], shape = [2, 2], type = oper, isherm = True\n",
        "Qobj data =\n",
        "[[ 0.  0.]\n",
        " [ 0.  3.]]"
       ]
      }
     ],
     "prompt_number": 13
    },
    {
     "cell_type": "heading",
     "level": 2,
     "metadata": {},
     "source": [
      "2. System of four quantum dots:"
     ]
    },
    {
     "cell_type": "markdown",
     "metadata": {},
     "source": [
      "Now we have to generealize previous approach to 4 qubits. It can be done after realisation we should sum all $\\tilde{H}_L$ like hamiltonian for each qubit, $\\tilde{H}_I $ for each pair and $\\tilde{H}_{res}$:"
     ]
    },
    {
     "cell_type": "markdown",
     "metadata": {},
     "source": [
      "\\begin{equation*}\n",
      "\\tilde{H} = \\sum_{\\ket{1III},\\ket{I1II} ...}\\tilde{H}_L + \\sum_{All\\, pairs}\\tilde{H}_I + \\tilde{H}_{res}\n",
      "\\end{equation*}"
     ]
    },
    {
     "cell_type": "code",
     "collapsed": false,
     "input": [
      "#H_res \n",
      "H_res = q.tensor(q_state([I,I,I,I], phonons=False),H_ph)\n",
      "H = H_res\n",
      "\n",
      "\n",
      "#H_l\n",
      "for i in range(N):\n",
      "    E[i] = np.dot(np.abs(f[i].reshape(1,phonons_num)**2),1/omega.T)\n",
      "    H += q_state(one(i)) * (E[i]) #all states |1 I I I>, |I 1 I I> etc. \n",
      "#generate pairs:\n",
      "pairs = list(permutations([0,1,2,3],2))\n",
      "\n",
      "\n",
      "#H_i\n",
      "for i,j in pairs:\n",
      "    H += q_state(pair(i,j)) * (d_eps[i,j]) \n",
      "print(H.data)\n",
      "    \n",
      " "
     ],
     "language": "python",
     "metadata": {},
     "outputs": [
      {
       "output_type": "stream",
       "stream": "stdout",
       "text": [
        "  (1, 1)\t(2+0j)\n",
        "  (2, 2)\t(2+0j)\n",
        "  (3, 3)\t(4+0j)\n",
        "  (4, 4)\t(2+0j)\n",
        "  (5, 5)\t(4+0j)\n",
        "  (6, 6)\t(6+0j)\n",
        "  (7, 7)\t(8+0j)\n",
        "  (8, 8)\t(2+0j)\n",
        "  (9, 9)\t(4+0j)\n",
        "  (10, 10)\t(6+0j)\n",
        "  (11, 11)\t(8+0j)\n",
        "  (12, 12)\t(6+0j)\n",
        "  (13, 13)\t(8+0j)\n",
        "  (14, 14)\t(12+0j)\n",
        "  (15, 15)\t(14+0j)\n",
        "  (16, 16)\t(2+0j)\n",
        "  (17, 17)\t(4+0j)\n",
        "  (18, 18)\t(6+0j)\n",
        "  (19, 19)\t(8+0j)\n",
        "  (20, 20)\t(6+0j)\n",
        "  (21, 21)\t(8+0j)\n",
        "  (22, 22)\t(12+0j)\n",
        "  (23, 23)\t(14+0j)\n",
        "  (24, 24)\t(6+0j)\n",
        "  (25, 25)\t(8+0j)\n",
        "  (26, 26)\t(12+0j)\n",
        "  (27, 27)\t(14+0j)\n",
        "  (28, 28)\t(12+0j)\n",
        "  (29, 29)\t(14+0j)\n",
        "  (30, 30)\t(20+0j)\n",
        "  (31, 31)\t(22+0j)\n"
       ]
      }
     ],
     "prompt_number": 8
    },
    {
     "cell_type": "code",
     "collapsed": false,
     "input": [
      "%load_ext version_information"
     ],
     "language": "python",
     "metadata": {},
     "outputs": [],
     "prompt_number": 10
    },
    {
     "cell_type": "heading",
     "level": 2,
     "metadata": {},
     "source": []
    },
    {
     "cell_type": "code",
     "collapsed": false,
     "input": [],
     "language": "python",
     "metadata": {},
     "outputs": []
    }
   ],
   "metadata": {}
  }
 ]
}